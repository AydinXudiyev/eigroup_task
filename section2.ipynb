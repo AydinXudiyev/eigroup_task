{
 "cells": [
  {
   "cell_type": "markdown",
   "metadata": {},
   "source": [
    "Create an algorithm that generates an NxN matrix filled with the numbers in a specific pattern\n",
    "starting from the center. This matrix should follow the pattern illustrated in the attached image.\n",
    "Input: An integer N representing the size of the square matrix (NxN).\n",
    "Output: A NxN matrix filled with numbers starting from 1 at the center and moving outward in\n",
    "a clockwise manner increasing sequentially, filling the matrix completely.\n",
    "Example:\n",
    "For N = 5, the output should look like:\n",
    "1. 21 22 23 24 25\n",
    "2. 20 7 8 9 10\n",
    "3. 19 6 1 2 11\n",
    "4. 18 5 4 3 12\n",
    "5. 17 16 15 14 13"
   ]
  },
  {
   "cell_type": "code",
   "execution_count": 31,
   "metadata": {},
   "outputs": [],
   "source": [
    "import numpy as np"
   ]
  },
  {
   "cell_type": "code",
   "execution_count": 32,
   "metadata": {},
   "outputs": [],
   "source": [
    "import numpy as np\n",
    "\n",
    "def generate_spiral_matrix(N):\n",
    "    # Initialize an NxN matrix filled with zeros\n",
    "    matrix = np.zeros((N, N), dtype=int)\n",
    "    \n",
    "    # Start at the center of the matrix\n",
    "    x, y = N // 2, N // 2\n",
    "    num = 1  # The first number to place in the matrix\n",
    "\n",
    "    # Define movement directions: right, down, left, up\n",
    "    directions = [(0, 1), (1, 0), (0, -1), (-1, 0)]\n",
    "    dir_idx = 0  # Index to track the current direction\n",
    "\n",
    "    # Place the first number in the center\n",
    "    matrix[x, y] = num\n",
    "    num += 1\n",
    "\n",
    "    # Spiral outward from the center\n",
    "    for step in range(1, N):  # Incrementally increase the step size\n",
    "        for _ in range(2):  # Repeat twice for horizontal and vertical moves\n",
    "            for _ in range(step):\n",
    "                # Move in the current direction\n",
    "                x, y = x + directions[dir_idx][0], y + directions[dir_idx][1]\n",
    "                \n",
    "                # Check if the position is within bounds\n",
    "                if 0 <= x < N and 0 <= y < N:\n",
    "                    matrix[x, y] = num  # Place the current number\n",
    "                    num += 1\n",
    "            dir_idx = (dir_idx + 1) % 4  # Change direction clockwise\n",
    "\n",
    "    # Final pass to complete the outermost layer\n",
    "    for _ in range(N - 1):\n",
    "        x, y = x + directions[dir_idx][0], y + directions[dir_idx][1]\n",
    "        if 0 <= x < N and 0 <= y < N:\n",
    "            matrix[x, y] = num\n",
    "            num += 1\n",
    "\n",
    "    return matrix"
   ]
  },
  {
   "cell_type": "markdown",
   "metadata": {},
   "source": [
    "Part 2:\n",
    "Calculate and print the sum of the numbers along both diagonals of the result matrix (primary\n",
    "and secondary).\n",
    "Input: Result matrix from the first part.\n",
    "Output: Sums of the diagonals separately."
   ]
  },
  {
   "cell_type": "code",
   "execution_count": 33,
   "metadata": {},
   "outputs": [
    {
     "name": "stdout",
     "output_type": "stream",
     "text": [
      "Spiral Matrix:\n",
      "[[21 22 23 24 25]\n",
      " [20  7  8  9 10]\n",
      " [19  6  1  2 11]\n",
      " [18  5  4  3 12]\n",
      " [17 16 15 14 13]]\n"
     ]
    }
   ],
   "source": [
    "# Example usage\n",
    "N = 5\n",
    "spiral_matrix = generate_spiral_matrix(N)\n",
    "print(\"Spiral Matrix:\")\n",
    "print(spiral_matrix)"
   ]
  },
  {
   "cell_type": "code",
   "execution_count": 34,
   "metadata": {},
   "outputs": [],
   "source": [
    "def calculate_diagonal_sums(matrix):\n",
    "    N = matrix.shape[0]  # Get the size of the matrix\n",
    "    primary_diagonal_sum = 0  # Sum of the primary diagonal (top-left to bottom-right)\n",
    "    secondary_diagonal_sum = 0  # Sum of the secondary diagonal (top-right to bottom-left)\n",
    "\n",
    "    for i in range(N):\n",
    "        primary_diagonal_sum += matrix[i, i]  # Add elements from the primary diagonal\n",
    "        secondary_diagonal_sum += matrix[i, N - 1 - i]  # Add elements from the secondary diagonal\n",
    "\n",
    "    return primary_diagonal_sum, secondary_diagonal_sum"
   ]
  },
  {
   "cell_type": "code",
   "execution_count": 35,
   "metadata": {},
   "outputs": [
    {
     "name": "stdout",
     "output_type": "stream",
     "text": [
      "Primary Diagonal Sum (top-left to bottom-right): 45\n",
      "Secondary Diagonal Sum (top-right to bottom-left): 57\n"
     ]
    }
   ],
   "source": [
    "primary_sum, secondary_sum = calculate_diagonal_sums(spiral_matrix)\n",
    "print(f\"Primary Diagonal Sum (top-left to bottom-right): {primary_sum}\")\n",
    "print(f\"Secondary Diagonal Sum (top-right to bottom-left): {secondary_sum}\")"
   ]
  }
 ],
 "metadata": {
  "kernelspec": {
   "display_name": "Python 3",
   "language": "python",
   "name": "python3"
  },
  "language_info": {
   "codemirror_mode": {
    "name": "ipython",
    "version": 3
   },
   "file_extension": ".py",
   "mimetype": "text/x-python",
   "name": "python",
   "nbconvert_exporter": "python",
   "pygments_lexer": "ipython3",
   "version": "3.12.8"
  }
 },
 "nbformat": 4,
 "nbformat_minor": 2
}
